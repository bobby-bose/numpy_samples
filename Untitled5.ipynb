{
  "nbformat": 4,
  "nbformat_minor": 0,
  "metadata": {
    "colab": {
      "name": "Untitled5.ipynb",
      "provenance": [],
      "authorship_tag": "ABX9TyP/IiHTdRmWxnYvbnUiHnJI",
      "include_colab_link": true
    },
    "kernelspec": {
      "name": "python3",
      "display_name": "Python 3"
    },
    "language_info": {
      "name": "python"
    }
  },
  "cells": [
    {
      "cell_type": "markdown",
      "metadata": {
        "id": "view-in-github",
        "colab_type": "text"
      },
      "source": [
        "<a href=\"https://colab.research.google.com/github/bobby-bose/numpy_samples/blob/main/Untitled5.ipynb\" target=\"_parent\"><img src=\"https://colab.research.google.com/assets/colab-badge.svg\" alt=\"Open In Colab\"/></a>"
      ]
    },
    {
      "cell_type": "code",
      "execution_count": null,
      "metadata": {
        "id": "bq_9B5HmgenK"
      },
      "outputs": [],
      "source": [
        "import numpy as np\n",
        "\n",
        "array_one=np.array([1,2,3,4])\n",
        "array_two=np.array([6,7,8,9])\n",
        "\n",
        "array_three=array_one.concat(array_two)\n",
        "\n",
        "print(array_three)"
      ]
    }
  ]
}